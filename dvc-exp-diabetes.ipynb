{
 "cells": [
  {
   "cell_type": "markdown",
   "id": "purple-german",
   "metadata": {},
   "source": [
    "# Using dvc experiments to build a predictor of diabetes progression."
   ]
  },
  {
   "cell_type": "markdown",
   "id": "imported-obligation",
   "metadata": {},
   "source": [
    "This notebook shows a toy example of how to use dvc experiments in model development to test out different model parameters in a modeling pipeline."
   ]
  },
  {
   "cell_type": "markdown",
   "id": "impaired-devon",
   "metadata": {},
   "source": [
    "### Data\n",
    "\n",
    "The toy dataset used here is included in `scikit-learn` and predicts the progression of diabetes for 442 patients one year after basline."
   ]
  },
  {
   "cell_type": "code",
   "execution_count": 2,
   "id": "alike-brunswick",
   "metadata": {},
   "outputs": [],
   "source": [
    "from sklearn.datasets import load_diabetes"
   ]
  },
  {
   "cell_type": "code",
   "execution_count": 3,
   "id": "sensitive-session",
   "metadata": {},
   "outputs": [
    {
     "name": "stdout",
     "output_type": "stream",
     "text": [
      ".. _diabetes_dataset:\n",
      "\n",
      "Diabetes dataset\n",
      "----------------\n",
      "\n",
      "Ten baseline variables, age, sex, body mass index, average blood\n",
      "pressure, and six blood serum measurements were obtained for each of n =\n",
      "442 diabetes patients, as well as the response of interest, a\n",
      "quantitative measure of disease progression one year after baseline.\n",
      "\n",
      "**Data Set Characteristics:**\n",
      "\n",
      "  :Number of Instances: 442\n",
      "\n",
      "  :Number of Attributes: First 10 columns are numeric predictive values\n",
      "\n",
      "  :Target: Column 11 is a quantitative measure of disease progression one year after baseline\n",
      "\n",
      "  :Attribute Information:\n",
      "      - age     age in years\n",
      "      - sex\n",
      "      - bmi     body mass index\n",
      "      - bp      average blood pressure\n",
      "      - s1      tc, T-Cells (a type of white blood cells)\n",
      "      - s2      ldl, low-density lipoproteins\n",
      "      - s3      hdl, high-density lipoproteins\n",
      "      - s4      tch, thyroid stimulating hormone\n",
      "      - s5      ltg, lamotrigine\n",
      "      - s6      glu, blood sugar level\n",
      "\n",
      "Note: Each of these 10 feature variables have been mean centered and scaled by the standard deviation times `n_samples` (i.e. the sum of squares of each column totals 1).\n",
      "\n",
      "Source URL:\n",
      "https://www4.stat.ncsu.edu/~boos/var.select/diabetes.html\n",
      "\n",
      "For more information see:\n",
      "Bradley Efron, Trevor Hastie, Iain Johnstone and Robert Tibshirani (2004) \"Least Angle Regression,\" Annals of Statistics (with discussion), 407-499.\n",
      "(https://web.stanford.edu/~hastie/Papers/LARS/LeastAngle_2002.pdf)\n"
     ]
    }
   ],
   "source": [
    "data = load_diabetes()\n",
    "print(data.DESCR)"
   ]
  },
  {
   "cell_type": "markdown",
   "id": "swedish-groove",
   "metadata": {},
   "source": [
    "### Model\n",
    "\n",
    "The model will try to predict the disease progression from the provided variables. A `scikit-learn` [Elastic Net](https://scikit-learn.org/stable/modules/generated/sklearn.linear_model.ElasticNet.html#sklearn.linear_model.ElasticNet) model will be used, and model performance will be evaluated based on the R-squared (R2) value. An Elastic Net model is a linear regression model that balances two different types of regularization: Lasso (which penalizes the L1-norm or absolute values of the coefficients) and Ridge (which penalizes the L2-norm or squares of the coefficients).\n",
    "\n",
    "Let's take a look at a simple model training script:"
   ]
  },
  {
   "cell_type": "code",
   "execution_count": 6,
   "id": "virtual-laugh",
   "metadata": {
    "scrolled": false
   },
   "outputs": [
    {
     "name": "stdout",
     "output_type": "stream",
     "text": [
      "import joblib\r\n",
      "import yaml\r\n",
      "from sklearn.datasets import load_diabetes\r\n",
      "from sklearn.linear_model import ElasticNet\r\n",
      "from sklearn.model_selection import train_test_split\r\n",
      "\r\n",
      "\r\n",
      "# Load params.\r\n",
      "with open(\"params.yaml\") as f:\r\n",
      "    params = yaml.safe_load(f)\r\n",
      "\r\n",
      "# Load data.\r\n",
      "data = load_diabetes()\r\n",
      "X_train, X_test, y_train, y_test = train_test_split(data.data, data.target, random_state=0)\r\n",
      "\r\n",
      "# Fit model.\r\n",
      "regr = ElasticNet(alpha=params[\"alpha\"], l1_ratio=params[\"l1_ratio\"])\r\n",
      "regr.fit(X_train, y_train)\r\n",
      "\r\n",
      "# Evaluate model.\r\n",
      "metrics = {}\r\n",
      "r2 = regr.score(X_test, y_test)\r\n",
      "metrics[\"r2\"] = r2.item()\r\n",
      "with open(\"metrics.yaml\", \"w\") as f:\r\n",
      "    yaml.dump(metrics, f)\r\n",
      "\r\n",
      "# Save model.\r\n",
      "joblib.dump(regr, \"model.joblib\")\r\n"
     ]
    }
   ],
   "source": [
    "!cat train.py"
   ]
  },
  {
   "cell_type": "markdown",
   "id": "acknowledged-crest",
   "metadata": {},
   "source": [
    "Note that the script calls a few other files. `params.yaml` contains the model parameters. It looks like:"
   ]
  },
  {
   "cell_type": "code",
   "execution_count": 7,
   "id": "dressed-postcard",
   "metadata": {},
   "outputs": [
    {
     "name": "stdout",
     "output_type": "stream",
     "text": [
      "alpha: 1\r\n",
      "l1_ratio: 0.5\r\n"
     ]
    }
   ],
   "source": [
    "!cat params.yaml"
   ]
  },
  {
   "cell_type": "markdown",
   "id": "spread-stable",
   "metadata": {},
   "source": [
    "In addition, the `train.py` script writes out the R2 score to `metrics.yaml` and saves the model to `model.joblib`."
   ]
  },
  {
   "cell_type": "markdown",
   "id": "palestinian-impact",
   "metadata": {},
   "source": [
    "### DVC Pipeline\n",
    "\n",
    "All of this can be tracked in `dvc.yaml` to establish a dvc pipeline:"
   ]
  },
  {
   "cell_type": "code",
   "execution_count": 9,
   "id": "ignored-loading",
   "metadata": {},
   "outputs": [
    {
     "name": "stdout",
     "output_type": "stream",
     "text": [
      "stages:\r\n",
      "  train:\r\n",
      "    cmd: python train.py\r\n",
      "    params:\r\n",
      "    - alpha\r\n",
      "    - l1_ratio\r\n",
      "    outs:\r\n",
      "    - model.joblib\r\n",
      "    metrics:\r\n",
      "    - metrics.yaml\r\n"
     ]
    }
   ],
   "source": [
    "!cat dvc.yaml"
   ]
  },
  {
   "cell_type": "markdown",
   "id": "floral-navigator",
   "metadata": {},
   "source": [
    "Let's run the pipeline as is for an initial experiment:"
   ]
  },
  {
   "cell_type": "code",
   "execution_count": 10,
   "id": "future-junior",
   "metadata": {},
   "outputs": [
    {
     "name": "stdout",
     "output_type": "stream",
     "text": [
      "Running stage 'train':                                                core\u001b[39m>\n",
      "> python train.py\n",
      "Generating lock file 'dvc.lock'                                       core\u001b[39m>\n",
      "Updating lock file 'dvc.lock'\n",
      "\n",
      "To track the changes with git, run:\n",
      "\n",
      "\tgit add params.yaml .gitignore dvc.yaml dvc.lock\n",
      "                                                                      core\u001b[39m>\n",
      "Reproduced experiment(s): exp-e1fcc\n",
      "Experiment results have been applied to your workspace.\n",
      "\n",
      "To promote an experiment to a Git branch run:\n",
      "\n",
      "\tdvc exp branch <exp>\n",
      "\n",
      "\u001b[0m"
     ]
    }
   ],
   "source": [
    "!dvc exp run"
   ]
  },
  {
   "cell_type": "markdown",
   "id": "suspended-charger",
   "metadata": {},
   "source": [
    "Looking at the output, this command ran the training script and reproduced experiment `exp-e1fcc`. Let's view the experiment results:"
   ]
  },
  {
   "cell_type": "code",
   "execution_count": 13,
   "id": "written-sodium",
   "metadata": {},
   "outputs": [
    {
     "name": "stdout",
     "output_type": "stream",
     "text": [
      "┏━━━━━━━━━━━━━━━┳━━━━━━━━━━┳━━━━━━━━━━┳━━━━━━━┳━━━━━━━━━━┓            core\u001b[39m>\n",
      "┃\u001b[1m \u001b[0m\u001b[1mExperiment   \u001b[0m\u001b[1m \u001b[0m┃\u001b[1m \u001b[0m\u001b[1mCreated \u001b[0m\u001b[1m \u001b[0m┃\u001b[1m \u001b[0m\u001b[1m      r2\u001b[0m\u001b[1m \u001b[0m┃\u001b[1m \u001b[0m\u001b[1malpha\u001b[0m\u001b[1m \u001b[0m┃\u001b[1m \u001b[0m\u001b[1ml1_ratio\u001b[0m\u001b[1m \u001b[0m┃\n",
      "┡━━━━━━━━━━━━━━━╇━━━━━━━━━━╇━━━━━━━━━━╇━━━━━━━╇━━━━━━━━━━┩\n",
      "│ workspace     │ -        │ 0.008472 │ 1     │ 0.5      │\n",
      "│ main          │ 04:40 PM │        - │ 1     │ 0.5      │\n",
      "│ └── exp-e1fcc │ 05:32 PM │ 0.008472 │ 1     │ 0.5      │\n",
      "└───────────────┴──────────┴──────────┴───────┴──────────┘\n",
      "\u001b[0m"
     ]
    }
   ],
   "source": [
    "!dvc exp show --no-pager"
   ]
  },
  {
   "cell_type": "markdown",
   "id": "requested-shape",
   "metadata": {},
   "source": [
    "The table above shows the experiment results, as well as those at the tip of the current branch and workspace."
   ]
  },
  {
   "cell_type": "markdown",
   "id": "normal-trick",
   "metadata": {},
   "source": [
    "### Experimenting with parameter values\n",
    "\n",
    "Next, let's try different different experiment parameters, especially since our initial R2 value is very weak.\n",
    "\n",
    "`alpha` is a constant multiplier of the regularization term in Elastic Net. In other words, a higher `alpha` increases regularization. By setting `alpha=0`, Elastic Net becomes ordinary least squares regression, since the regularization term is set to have no weight. Let's try that:"
   ]
  },
  {
   "cell_type": "code",
   "execution_count": 14,
   "id": "handmade-preference",
   "metadata": {},
   "outputs": [
    {
     "name": "stdout",
     "output_type": "stream",
     "text": [
      "Running stage 'train':                                                core\u001b[39m>\n",
      "> python train.py\n",
      "train.py:18: UserWarning: With alpha=0, this algorithm does not converge well. You are advised to use the LinearRegression estimator\n",
      "  regr.fit(X_train, y_train)\n",
      "/opt/conda/lib/python3.8/site-packages/sklearn/linear_model/_coordinate_descent.py:529: UserWarning: Coordinate descent with no regularization may lead to unexpected results and is discouraged.\n",
      "  model = cd_fast.enet_coordinate_descent(\n",
      "/opt/conda/lib/python3.8/site-packages/sklearn/linear_model/_coordinate_descent.py:529: ConvergenceWarning: Objective did not converge. You might want to increase the number of iterations. Duality gap: 460100.31330777775, tolerance: 206.98999577039277\n",
      "  model = cd_fast.enet_coordinate_descent(\n",
      "Updating lock file 'dvc.lock'                                         core\u001b[39m>\n",
      "\n",
      "To track the changes with git, run:\n",
      "\n",
      "\tgit add dvc.yaml dvc.lock params.yaml\n",
      "                                                                      core\u001b[39m>\n",
      "Reproduced experiment(s): exp-3ad02\n",
      "Experiment results have been applied to your workspace.\n",
      "\n",
      "To promote an experiment to a Git branch run:\n",
      "\n",
      "\tdvc exp branch <exp>\n",
      "\n",
      "\u001b[0m"
     ]
    }
   ],
   "source": [
    "!dvc exp run --params alpha=0"
   ]
  },
  {
   "cell_type": "markdown",
   "id": "future-oracle",
   "metadata": {},
   "source": [
    "NOTE: `scikit-learn` gives a warning when using Elastic Net with `alpha=0`, since the underlying algorithm used may not converge, so it's generally better to use `LinearRegression` if not using any regularization."
   ]
  },
  {
   "cell_type": "markdown",
   "id": "acute-velvet",
   "metadata": {},
   "source": [
    "Let's compare to the initial experiment with the default parameters:"
   ]
  },
  {
   "cell_type": "code",
   "execution_count": 16,
   "id": "registered-uzbekistan",
   "metadata": {},
   "outputs": [
    {
     "name": "stdout",
     "output_type": "stream",
     "text": [
      "┏━━━━━━━━━━━━━━━┳━━━━━━━━━━┳━━━━━━━━━━┳━━━━━━━┳━━━━━━━━━━┓            core\u001b[39m>\n",
      "┃\u001b[1m \u001b[0m\u001b[1mExperiment   \u001b[0m\u001b[1m \u001b[0m┃\u001b[1m \u001b[0m\u001b[1mCreated \u001b[0m\u001b[1m \u001b[0m┃\u001b[1m \u001b[0m\u001b[1m      r2\u001b[0m\u001b[1m \u001b[0m┃\u001b[1m \u001b[0m\u001b[1malpha\u001b[0m\u001b[1m \u001b[0m┃\u001b[1m \u001b[0m\u001b[1ml1_ratio\u001b[0m\u001b[1m \u001b[0m┃\n",
      "┡━━━━━━━━━━━━━━━╇━━━━━━━━━━╇━━━━━━━━━━╇━━━━━━━╇━━━━━━━━━━┩\n",
      "│ workspace     │ -        │   0.3594 │ 0     │ 0.5      │\n",
      "│ main          │ 04:40 PM │        - │ 1     │ 0.5      │\n",
      "│ ├── exp-3ad02 │ 05:47 PM │   0.3594 │ 0     │ 0.5      │\n",
      "│ └── exp-e1fcc │ 05:32 PM │ 0.008472 │ 1     │ 0.5      │\n",
      "└───────────────┴──────────┴──────────┴───────┴──────────┘\n",
      "\u001b[0m"
     ]
    }
   ],
   "source": [
    "!dvc exp show --no-pager"
   ]
  },
  {
   "cell_type": "markdown",
   "id": "controlled-hundred",
   "metadata": {},
   "source": [
    "The R2 score without any regularization performs much better, which may not be surprising given the simplicity of the dataset.\n",
    "\n",
    "Let's try smaller `alpha` values to see if there is any amount of regularization that improves R2:"
   ]
  },
  {
   "cell_type": "code",
   "execution_count": 17,
   "id": "olympic-scout",
   "metadata": {},
   "outputs": [
    {
     "name": "stdout",
     "output_type": "stream",
     "text": [
      "Running stage 'train':\n",
      "> python train.py\n",
      "Updating lock file 'dvc.lock'\n",
      "\n",
      "To track the changes with git, run:\n",
      "\n",
      "\tgit add dvc.yaml params.yaml dvc.lock\n",
      "\n",
      "Reproduced experiment(s): exp-77494\n",
      "Experiment results have been applied to your workspace.\n",
      "\n",
      "To promote an experiment to a Git branch run:\n",
      "\n",
      "\tdvc exp branch <exp>\n",
      "\n",
      "┏━━━━━━━━━━━━━━━┳━━━━━━━━━━┳━━━━━━━━━━┳━━━━━━━┳━━━━━━━━━━┓\n",
      "┃ Experiment    ┃ Created  ┃       r2 ┃ alpha ┃ l1_ratio ┃\n",
      "┡━━━━━━━━━━━━━━━╇━━━━━━━━━━╇━━━━━━━━━━╇━━━━━━━╇━━━━━━━━━━┩\n",
      "│ workspace     │ -        │ 0.096341 │ 0.1   │ 0.5      │\n",
      "│ main          │ 04:40 PM │        - │ 1     │ 0.5      │\n",
      "│ ├── exp-77494 │ 05:54 PM │ 0.096341 │ 0.1   │ 0.5      │\n",
      "│ ├── exp-3ad02 │ 05:47 PM │   0.3594 │ 0     │ 0.5      │\n",
      "│ └── exp-e1fcc │ 05:32 PM │ 0.008472 │ 1     │ 0.5      │\n",
      "└───────────────┴──────────┴──────────┴───────┴──────────┘\n"
     ]
    }
   ],
   "source": [
    "%%bash\n",
    "dvc exp run --params alpha=0.1\n",
    "dvc exp show --no-pager"
   ]
  },
  {
   "cell_type": "markdown",
   "id": "parliamentary-chicago",
   "metadata": {},
   "source": [
    "The R2 score is still much worse than `alpha=0`. Let's try an even smaller `alpha`:"
   ]
  },
  {
   "cell_type": "code",
   "execution_count": 18,
   "id": "public-system",
   "metadata": {},
   "outputs": [
    {
     "name": "stdout",
     "output_type": "stream",
     "text": [
      "Running stage 'train':\n",
      "> python train.py\n",
      "Updating lock file 'dvc.lock'\n",
      "\n",
      "To track the changes with git, run:\n",
      "\n",
      "\tgit add dvc.yaml dvc.lock params.yaml\n",
      "\n",
      "Reproduced experiment(s): exp-f3e7f\n",
      "Experiment results have been applied to your workspace.\n",
      "\n",
      "To promote an experiment to a Git branch run:\n",
      "\n",
      "\tdvc exp branch <exp>\n",
      "\n",
      "┏━━━━━━━━━━━━━━━┳━━━━━━━━━━┳━━━━━━━━━━┳━━━━━━━┳━━━━━━━━━━┓\n",
      "┃ Experiment    ┃ Created  ┃       r2 ┃ alpha ┃ l1_ratio ┃\n",
      "┡━━━━━━━━━━━━━━━╇━━━━━━━━━━╇━━━━━━━━━━╇━━━━━━━╇━━━━━━━━━━┩\n",
      "│ workspace     │ -        │  0.32473 │ 0.01  │ 0.5      │\n",
      "│ main          │ 04:40 PM │        - │ 1     │ 0.5      │\n",
      "│ ├── exp-f3e7f │ 05:55 PM │  0.32473 │ 0.01  │ 0.5      │\n",
      "│ ├── exp-77494 │ 05:54 PM │ 0.096341 │ 0.1   │ 0.5      │\n",
      "│ ├── exp-3ad02 │ 05:47 PM │   0.3594 │ 0     │ 0.5      │\n",
      "│ └── exp-e1fcc │ 05:32 PM │ 0.008472 │ 1     │ 0.5      │\n",
      "└───────────────┴──────────┴──────────┴───────┴──────────┘\n"
     ]
    }
   ],
   "source": [
    "%%bash\n",
    "dvc exp run --params alpha=0.01\n",
    "dvc exp show --no-pager"
   ]
  },
  {
   "cell_type": "markdown",
   "id": "grateful-springfield",
   "metadata": {},
   "source": [
    "That experiment was much closer to `alpha=0`, so let's try even smaller:"
   ]
  },
  {
   "cell_type": "code",
   "execution_count": 19,
   "id": "alone-harassment",
   "metadata": {},
   "outputs": [
    {
     "name": "stdout",
     "output_type": "stream",
     "text": [
      "Running stage 'train':\n",
      "> python train.py\n",
      "Updating lock file 'dvc.lock'\n",
      "\n",
      "To track the changes with git, run:\n",
      "\n",
      "\tgit add dvc.lock params.yaml dvc.yaml\n",
      "\n",
      "Reproduced experiment(s): exp-20200\n",
      "Experiment results have been applied to your workspace.\n",
      "\n",
      "To promote an experiment to a Git branch run:\n",
      "\n",
      "\tdvc exp branch <exp>\n",
      "\n",
      "┏━━━━━━━━━━━━━━━┳━━━━━━━━━━┳━━━━━━━━━━┳━━━━━━━┳━━━━━━━━━━┓\n",
      "┃ Experiment    ┃ Created  ┃       r2 ┃ alpha ┃ l1_ratio ┃\n",
      "┡━━━━━━━━━━━━━━━╇━━━━━━━━━━╇━━━━━━━━━━╇━━━━━━━╇━━━━━━━━━━┩\n",
      "│ workspace     │ -        │   0.3751 │ 0.001 │ 0.5      │\n",
      "│ main          │ 04:40 PM │        - │ 1     │ 0.5      │\n",
      "│ ├── exp-20200 │ 05:55 PM │   0.3751 │ 0.001 │ 0.5      │\n",
      "│ ├── exp-f3e7f │ 05:55 PM │  0.32473 │ 0.01  │ 0.5      │\n",
      "│ ├── exp-77494 │ 05:54 PM │ 0.096341 │ 0.1   │ 0.5      │\n",
      "│ ├── exp-3ad02 │ 05:47 PM │   0.3594 │ 0     │ 0.5      │\n",
      "│ └── exp-e1fcc │ 05:32 PM │ 0.008472 │ 1     │ 0.5      │\n",
      "└───────────────┴──────────┴──────────┴───────┴──────────┘\n"
     ]
    }
   ],
   "source": [
    "%%bash\n",
    "dvc exp run --params alpha=0.001\n",
    "dvc exp show --no-pager"
   ]
  },
  {
   "cell_type": "markdown",
   "id": "textile-orchestra",
   "metadata": {},
   "source": [
    "That experiment actually beat `alpha=0`, so let's see if an even smaller `alpha` is even better:"
   ]
  },
  {
   "cell_type": "code",
   "execution_count": 20,
   "id": "responsible-tuner",
   "metadata": {},
   "outputs": [
    {
     "name": "stdout",
     "output_type": "stream",
     "text": [
      "Running stage 'train':\n",
      "> python train.py\n",
      "Updating lock file 'dvc.lock'\n",
      "\n",
      "To track the changes with git, run:\n",
      "\n",
      "\tgit add dvc.yaml dvc.lock params.yaml\n",
      "\n",
      "Reproduced experiment(s): exp-86a4c\n",
      "Experiment results have been applied to your workspace.\n",
      "\n",
      "To promote an experiment to a Git branch run:\n",
      "\n",
      "\tdvc exp branch <exp>\n",
      "\n",
      "┏━━━━━━━━━━━━━━━┳━━━━━━━━━━┳━━━━━━━━━━┳━━━━━━━━┳━━━━━━━━━━┓\n",
      "┃ Experiment    ┃ Created  ┃       r2 ┃ alpha  ┃ l1_ratio ┃\n",
      "┡━━━━━━━━━━━━━━━╇━━━━━━━━━━╇━━━━━━━━━━╇━━━━━━━━╇━━━━━━━━━━┩\n",
      "│ workspace     │ -        │  0.35707 │ 0.0001 │ 0.5      │\n",
      "│ main          │ 04:40 PM │        - │ 1      │ 0.5      │\n",
      "│ ├── exp-86a4c │ 05:56 PM │  0.35707 │ 0.0001 │ 0.5      │\n",
      "│ ├── exp-20200 │ 05:55 PM │   0.3751 │ 0.001  │ 0.5      │\n",
      "│ ├── exp-f3e7f │ 05:55 PM │  0.32473 │ 0.01   │ 0.5      │\n",
      "│ ├── exp-77494 │ 05:54 PM │ 0.096341 │ 0.1    │ 0.5      │\n",
      "│ ├── exp-3ad02 │ 05:47 PM │   0.3594 │ 0      │ 0.5      │\n",
      "│ └── exp-e1fcc │ 05:32 PM │ 0.008472 │ 1      │ 0.5      │\n",
      "└───────────────┴──────────┴──────────┴────────┴──────────┘\n"
     ]
    }
   ],
   "source": [
    "%%bash\n",
    "dvc exp run --params alpha=0.0001\n",
    "dvc exp show --no-pager"
   ]
  },
  {
   "cell_type": "markdown",
   "id": "elegant-madonna",
   "metadata": {},
   "source": [
    "The R2 score is going back down, so it looks like `alpha=0.001` was best. Let's revert to that experiment by using the experiment id on the left column of the table:"
   ]
  },
  {
   "cell_type": "code",
   "execution_count": 22,
   "id": "introductory-celebrity",
   "metadata": {},
   "outputs": [
    {
     "name": "stdout",
     "output_type": "stream",
     "text": [
      "Changes for experiment 'exp-20200' have been applied to your current workspace. \n",
      "\u001b[0m"
     ]
    }
   ],
   "source": [
    "!dvc exp apply -f exp-20200"
   ]
  },
  {
   "cell_type": "markdown",
   "id": "structured-circus",
   "metadata": {},
   "source": [
    "Let's check what that did by looking at the parameters and metrics in the workspace:"
   ]
  },
  {
   "cell_type": "code",
   "execution_count": 23,
   "id": "innovative-approach",
   "metadata": {},
   "outputs": [
    {
     "name": "stdout",
     "output_type": "stream",
     "text": [
      "alpha: 0.001\n",
      "l1_ratio: 0.5\n",
      "r2: 0.3751029973603025\n"
     ]
    }
   ],
   "source": [
    "%%bash\n",
    "cat params.yaml\n",
    "cat metrics.yaml"
   ]
  },
  {
   "cell_type": "markdown",
   "id": "abandoned-narrative",
   "metadata": {},
   "source": [
    "Everything in the workspace now matches the state of the applied experiment."
   ]
  },
  {
   "cell_type": "markdown",
   "id": "velvet-furniture",
   "metadata": {},
   "source": [
    "### Experimenting with multiple parameters\n",
    "\n",
    "The `l1_ratio` is a mixing parameter, which controls whether to weight the L1 regularization term more or less than the L2 term. `l1_ratio=1` is equivalent to Lasso (L1) regression, and `l1_ratio=0` is equivalent to Ridge (L2) regression.\n",
    "\n",
    "Let's queue up experiments for multiple `l1_ratio` values at once:"
   ]
  },
  {
   "cell_type": "code",
   "execution_count": 24,
   "id": "single-newfoundland",
   "metadata": {},
   "outputs": [
    {
     "name": "stdout",
     "output_type": "stream",
     "text": [
      "Queued experiment '3a2c083' for future execution.\n",
      "Queued experiment '5536299' for future execution.\n",
      "Queued experiment '9b487f6' for future execution.\n",
      "Queued experiment 'a68621b' for future execution.\n",
      "Queued experiment '9015752' for future execution.\n",
      "Queued experiment '80e504c' for future execution.\n"
     ]
    }
   ],
   "source": [
    "%%bash\n",
    "dvc exp run --params l1_ratio=0 --queue\n",
    "dvc exp run --params l1_ratio=0.2 --queue\n",
    "dvc exp run --params l1_ratio=0.4 --queue\n",
    "dvc exp run --params l1_ratio=0.6 --queue\n",
    "dvc exp run --params l1_ratio=0.8 --queue\n",
    "dvc exp run --params l1_ratio=1 --queue"
   ]
  },
  {
   "cell_type": "markdown",
   "id": "tired-elite",
   "metadata": {},
   "source": [
    "All of those experiments have been saved for future execution. Let's see what that looks like:"
   ]
  },
  {
   "cell_type": "code",
   "execution_count": 25,
   "id": "charged-herald",
   "metadata": {},
   "outputs": [
    {
     "name": "stdout",
     "output_type": "stream",
     "text": [
      "┏━━━━━━━━━━━━━━━┳━━━━━━━━━━┳━━━━━━━━━━┳━━━━━━━━┳━━━━━━━━━━┓           core\u001b[39m>\n",
      "┃\u001b[1m \u001b[0m\u001b[1mExperiment   \u001b[0m\u001b[1m \u001b[0m┃\u001b[1m \u001b[0m\u001b[1mCreated \u001b[0m\u001b[1m \u001b[0m┃\u001b[1m \u001b[0m\u001b[1m      r2\u001b[0m\u001b[1m \u001b[0m┃\u001b[1m \u001b[0m\u001b[1malpha \u001b[0m\u001b[1m \u001b[0m┃\u001b[1m \u001b[0m\u001b[1ml1_ratio\u001b[0m\u001b[1m \u001b[0m┃\n",
      "┡━━━━━━━━━━━━━━━╇━━━━━━━━━━╇━━━━━━━━━━╇━━━━━━━━╇━━━━━━━━━━┩\n",
      "│ workspace     │ -        │   0.3751 │ 0.001  │ 0.5      │\n",
      "│ main          │ 04:40 PM │        - │ 1      │ 0.5      │\n",
      "│ ├── exp-86a4c │ 05:56 PM │  0.35707 │ 0.0001 │ 0.5      │\n",
      "│ ├── exp-20200 │ 05:55 PM │   0.3751 │ 0.001  │ 0.5      │\n",
      "│ ├── exp-f3e7f │ 05:55 PM │  0.32473 │ 0.01   │ 0.5      │\n",
      "│ ├── exp-77494 │ 05:54 PM │ 0.096341 │ 0.1    │ 0.5      │\n",
      "│ ├── exp-3ad02 │ 05:47 PM │   0.3594 │ 0      │ 0.5      │\n",
      "│ ├── exp-e1fcc │ 05:32 PM │ 0.008472 │ 1      │ 0.5      │\n",
      "│ ├── *80e504c  │ 06:52 PM │        - │ 0.001  │ 1        │\n",
      "│ ├── *9015752  │ 06:52 PM │        - │ 0.001  │ 0.8      │\n",
      "│ ├── *a68621b  │ 06:52 PM │        - │ 0.001  │ 0.6      │\n",
      "│ ├── *9b487f6  │ 06:52 PM │        - │ 0.001  │ 0.4      │\n",
      "│ ├── *5536299  │ 06:52 PM │        - │ 0.001  │ 0.2      │\n",
      "│ └── *3a2c083  │ 06:52 PM │        - │ 0.001  │ 0        │\n",
      "└───────────────┴──────────┴──────────┴────────┴──────────┘\n",
      "\u001b[0m"
     ]
    }
   ],
   "source": [
    "!dvc exp show --no-pager"
   ]
  },
  {
   "cell_type": "markdown",
   "id": "conceptual-cabin",
   "metadata": {},
   "source": [
    "Now let's run all of those at once, and in 4 different jobs to speed up our execution:"
   ]
  },
  {
   "cell_type": "code",
   "execution_count": 28,
   "id": "guilty-implement",
   "metadata": {},
   "outputs": [
    {
     "name": "stdout",
     "output_type": "stream",
     "text": [
      "                                                                      core\u001b[39m>Running stage 'train':\n",
      "> python train.py\n",
      "Running stage 'train':\n",
      "> python train.py\n",
      "Running stage 'train':\n",
      "> python train.py\n",
      "Running stage 'train':\n",
      "> python train.py\n",
      "Generating lock file 'dvc.lock'                                       core\u001b[39m>\n",
      "Updating lock file 'dvc.lock'\n",
      "Generating lock file 'dvc.lock'                                       core\u001b[39m>\n",
      "Updating lock file 'dvc.lock'\n",
      "Generating lock file 'dvc.lock'                                       core\u001b[39m>\n",
      "Updating lock file 'dvc.lock'\n",
      "Generating lock file 'dvc.lock'\n",
      "Updating lock file 'dvc.lock'\n",
      "Running stage 'train':                                                core\u001b[39m>\n",
      "> python train.py\n",
      "Running stage 'train':                                                core\u001b[39m>\n",
      "> python train.py\n",
      "Generating lock file 'dvc.lock'                                       core\u001b[39m>\n",
      "Updating lock file 'dvc.lock'\n",
      "/opt/conda/lib/python3.8/site-packages/sklearn/linear_model/_coordinate_descent.py:529: ConvergenceWarning: Objective did not converge. You might want to increase the number of iterations. Duality gap: 564546.4683100041, tolerance: 206.98999577039277\n",
      "  model = cd_fast.enet_coordinate_descent(\n",
      "Generating lock file 'dvc.lock'                                       core\u001b[39m>\n",
      "Updating lock file 'dvc.lock'\n",
      "                                                                                \n",
      "Reproduced experiment(s): exp-84d20, exp-32e05, exp-a54b4, exp-b23ef, exp-60146, exp-a70e0\n",
      "To apply the results of an experiment to your workspace run:\n",
      "\n",
      "\tdvc exp apply <exp>\n",
      "\n",
      "To promote an experiment to a Git branch run:\n",
      "\n",
      "\tdvc exp branch <exp>\n",
      "\n",
      "\u001b[0m"
     ]
    }
   ],
   "source": [
    "!dvc exp run --run-all -j 4"
   ]
  },
  {
   "cell_type": "markdown",
   "id": "instructional-olympus",
   "metadata": {},
   "source": [
    "NOTE: When using `-j` to run multiple experiment jobs in parallel, the order of experiments may change from the queue order since there is no guarantee which experiments will complete first."
   ]
  },
  {
   "cell_type": "code",
   "execution_count": 29,
   "id": "renewable-israeli",
   "metadata": {},
   "outputs": [
    {
     "name": "stdout",
     "output_type": "stream",
     "text": [
      "┏━━━━━━━━━━━━━━━┳━━━━━━━━━━┳━━━━━━━━━━┳━━━━━━━━┳━━━━━━━━━━┓           core\u001b[39m>\n",
      "┃\u001b[1m \u001b[0m\u001b[1mExperiment   \u001b[0m\u001b[1m \u001b[0m┃\u001b[1m \u001b[0m\u001b[1mCreated \u001b[0m\u001b[1m \u001b[0m┃\u001b[1m \u001b[0m\u001b[1m      r2\u001b[0m\u001b[1m \u001b[0m┃\u001b[1m \u001b[0m\u001b[1malpha \u001b[0m\u001b[1m \u001b[0m┃\u001b[1m \u001b[0m\u001b[1ml1_ratio\u001b[0m\u001b[1m \u001b[0m┃\n",
      "┡━━━━━━━━━━━━━━━╇━━━━━━━━━━╇━━━━━━━━━━╇━━━━━━━━╇━━━━━━━━━━┩\n",
      "│ workspace     │ -        │   0.3751 │ 0.001  │ 0.5      │\n",
      "│ main          │ 04:40 PM │        - │ 1      │ 0.5      │\n",
      "│ ├── exp-60146 │ 06:57 PM │  0.37954 │ 0.001  │ 0.2      │\n",
      "│ ├── exp-a70e0 │ 06:57 PM │  0.38037 │ 0.001  │ 0        │\n",
      "│ ├── exp-a54b4 │ 06:57 PM │  0.37243 │ 0.001  │ 0.6      │\n",
      "│ ├── exp-b23ef │ 06:57 PM │  0.37711 │ 0.001  │ 0.4      │\n",
      "│ ├── exp-32e05 │ 06:57 PM │  0.36461 │ 0.001  │ 0.8      │\n",
      "│ ├── exp-84d20 │ 06:57 PM │  0.35875 │ 0.001  │ 1        │\n",
      "│ ├── exp-44136 │ 06:57 PM │        - │ 0.001  │ 0.5      │\n",
      "│ ├── exp-86a4c │ 05:56 PM │  0.35707 │ 0.0001 │ 0.5      │\n",
      "│ ├── exp-20200 │ 05:55 PM │   0.3751 │ 0.001  │ 0.5      │\n",
      "│ ├── exp-f3e7f │ 05:55 PM │  0.32473 │ 0.01   │ 0.5      │\n",
      "│ ├── exp-77494 │ 05:54 PM │ 0.096341 │ 0.1    │ 0.5      │\n",
      "│ ├── exp-3ad02 │ 05:47 PM │   0.3594 │ 0      │ 0.5      │\n",
      "│ └── exp-e1fcc │ 05:32 PM │ 0.008472 │ 1      │ 0.5      │\n",
      "└───────────────┴──────────┴──────────┴────────┴──────────┘\n",
      "\u001b[0m"
     ]
    }
   ],
   "source": [
    "!dvc exp show --no-pager"
   ]
  },
  {
   "cell_type": "markdown",
   "id": "actual-berlin",
   "metadata": {},
   "source": [
    "The best experiment is `l1_ratio=0`, which is pure Ridge regression. Let's apply that experiment to the workspace and check the metrics:"
   ]
  },
  {
   "cell_type": "code",
   "execution_count": 44,
   "id": "functional-fifteen",
   "metadata": {},
   "outputs": [
    {
     "name": "stdout",
     "output_type": "stream",
     "text": [
      "Changes for experiment 'exp-a70e0' have been applied to your current workspace.\n",
      "Path          r2\n",
      "metrics.yaml  0.38037\n"
     ]
    }
   ],
   "source": [
    "%%bash\n",
    "dvc exp apply -f exp-a70e0\n",
    "dvc metrics show"
   ]
  },
  {
   "cell_type": "markdown",
   "id": "broken-strap",
   "metadata": {},
   "source": [
    "Once you have applied the experiment you want to keep as part of your pipeline, commit to git and it will be preserved in both git and dvc."
   ]
  },
  {
   "cell_type": "code",
   "execution_count": null,
   "id": "racial-underground",
   "metadata": {},
   "outputs": [],
   "source": []
  }
 ],
 "metadata": {
  "kernelspec": {
   "display_name": "Python 3",
   "language": "python",
   "name": "python3"
  },
  "language_info": {
   "codemirror_mode": {
    "name": "ipython",
    "version": 3
   },
   "file_extension": ".py",
   "mimetype": "text/x-python",
   "name": "python",
   "nbconvert_exporter": "python",
   "pygments_lexer": "ipython3",
   "version": "3.8.6"
  }
 },
 "nbformat": 4,
 "nbformat_minor": 5
}
